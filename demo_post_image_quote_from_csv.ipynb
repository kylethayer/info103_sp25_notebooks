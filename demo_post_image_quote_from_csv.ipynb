{
 "cells": [
  {
   "cell_type": "markdown",
   "id": "8e8b04f7-3262-427e-b125-ec9e4284d0d9",
   "metadata": {
    "tags": []
   },
   "source": [
    "# Demo: Post a quote from csv"
   ]
  },
  {
   "cell_type": "markdown",
   "id": "71630ecc-59b1-421a-94b8-7c973e0a3c12",
   "metadata": {},
   "source": [
    "## Step 1: Connect to Bluesky"
   ]
  },
  {
   "cell_type": "code",
   "execution_count": 8,
   "id": "d93d5346-7256-48dd-9687-5919aabf6f74",
   "metadata": {},
   "outputs": [],
   "source": [
    "# Load some code called \"Client\" from the \"atproto\" library that will help us work with Bluesky\n",
    "from atproto import Client"
   ]
  },
  {
   "cell_type": "code",
   "execution_count": 9,
   "id": "6c17ccfc-269d-4d21-80f8-d7dbe0576423",
   "metadata": {},
   "outputs": [],
   "source": [
    "# Login to Bluesky\n",
    "%run bluesky_keys.py\n",
    "\n",
    "client = Client(base_url=\"https://bsky.social\")\n",
    "client.login(handle, password)"
   ]
  },
  {
   "cell_type": "markdown",
   "id": "006459cb-1a07-4a60-91b0-031174339753",
   "metadata": {},
   "source": [
    "## Step 2: Load a csv file with quotes, image locations, and alt-text for quotes (first column item is \"quotes\")\n",
    "Note: You can open, edit, and save CSV files with programs like Google Sheets and Microsoft Excel"
   ]
  },
  {
   "cell_type": "code",
   "execution_count": null,
   "id": "1759d137",
   "metadata": {},
   "outputs": [],
   "source": [
    "# Make sure a version of the numpy library is loaded that wont cause errors later\n",
    "!pip install \"numpy<2.0\" "
   ]
  },
  {
   "cell_type": "code",
   "execution_count": 11,
   "id": "9c999f43",
   "metadata": {},
   "outputs": [],
   "source": [
    "import pandas as pd\n",
    "\n",
    "# load the inspiratational_quotes.csv file\n",
    "quotes_df = pd.read_csv('inspirational_quotes_with_images.csv')"
   ]
  },
  {
   "cell_type": "markdown",
   "id": "74874fcc",
   "metadata": {},
   "source": [
    "## Step 3: Choose a random quote and post it"
   ]
  },
  {
   "cell_type": "code",
   "execution_count": 30,
   "id": "b44dafab-9d25-4620-b6bd-bd4149400eca",
   "metadata": {
    "tags": []
   },
   "outputs": [
    {
     "name": "stdout",
     "output_type": "stream",
     "text": [
      "Feeling better feels better!\n",
      "hybrid_animal_imgs/baboon-bird.jpg\n"
     ]
    },
    {
     "data": {
      "text/plain": [
       "Submission(id='13lck4w')"
      ]
     },
     "execution_count": 30,
     "metadata": {},
     "output_type": "execute_result"
    }
   ],
   "source": [
    "# Choose a random entry and get the quote, image location, and alt-text\n",
    "random_entries = quotes_df.sample(1)\n",
    "\n",
    "random_entry = random_entries.iloc[0]\n",
    "\n",
    "quote = str(random_entry['quotes'])\n",
    "print(quote)\n",
    "image_file_location = str(random_entry['image_files'])\n",
    "print(image_file_location)\n",
    "image_alt_text = str(random_entry['image_alt'])\n",
    "print(image_alt_text)\n",
    "\n",
    "\n",
    "# load image data\n",
    "image_file_location = image_file_location\n",
    "with open(image_file_location, 'rb') as f:\n",
    "   img_data = f.read()\n",
    "\n",
    "\n",
    "\n",
    "client.send_images(\n",
    "   quote, \n",
    "   images = [img_data],\n",
    "   image_alts = [image_alt_text])"
   ]
  },
  {
   "cell_type": "code",
   "execution_count": null,
   "id": "bd05289a-9d5e-4161-a7b4-ae08693fb8b1",
   "metadata": {},
   "outputs": [],
   "source": []
  }
 ],
 "metadata": {
  "kernelspec": {
   "display_name": "Python 3 (ipykernel)",
   "language": "python",
   "name": "python3"
  },
  "language_info": {
   "codemirror_mode": {
    "name": "ipython",
    "version": 3
   },
   "file_extension": ".py",
   "mimetype": "text/x-python",
   "name": "python",
   "nbconvert_exporter": "python",
   "pygments_lexer": "ipython3",
   "version": "3.9.7"
  },
  "vscode": {
   "interpreter": {
    "hash": "369f2c481f4da34e4445cda3fffd2e751bd1c4d706f27375911949ba6bb62e1c"
   }
  }
 },
 "nbformat": 4,
 "nbformat_minor": 5
}
