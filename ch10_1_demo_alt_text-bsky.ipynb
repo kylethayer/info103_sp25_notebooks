{
 "cells": [
  {
   "attachments": {},
   "cell_type": "markdown",
   "id": "574eeeee-eb48-4af0-9815-6b10faa827a9",
   "metadata": {},
   "source": [
    "# Ch10.5.2: Demo: Alt-text From Bluesky\n",
    "Let's search for images and look up some alt-text\n",
    "\n",
    "First we need to do our normal Bluesky login steps (and optional fake atproto step)\n",
    "## Log into atproto (or fake atproto)\n",
    "### Load atproto library"
   ]
  },
  {
   "cell_type": "code",
   "execution_count": null,
   "id": "69e7ddc2-9002-4f26-a2f6-5ffdf1f57148",
   "metadata": {},
   "outputs": [],
   "source": [
    "# Load some code called \"Client\" from the \"atproto\" library that will help us work with Bluesky\n",
    "from atproto import Client"
   ]
  },
  {
   "cell_type": "markdown",
   "id": "19ef1663-b711-4793-b851-6dffa78a9a85",
   "metadata": {},
   "source": [
    "### Step 2: Login to Bluesky\n",
    "To use this on your real Bluesky account, copy your bluesky account name and logininto the `bluesky_keys.py` file."
   ]
  },
  {
   "cell_type": "code",
   "execution_count": null,
   "id": "a0b93d03-e89b-43cf-8e35-4f30401b6b49",
   "metadata": {},
   "outputs": [],
   "source": [
    "# Login to Bluesky\n",
    "%run bluesky_keys.py\n",
    "\n",
    "client = Client(base_url=\"https://bsky.social\")\n",
    "client.login(handle, password)"
   ]
  },
  {
   "cell_type": "markdown",
   "id": "02d9aa20-7d02-465d-a90b-bcb48672ff7b",
   "metadata": {},
   "source": [
    "## Get alt text from a search of posts"
   ]
  },
  {
   "cell_type": "code",
   "execution_count": null,
   "id": "ef93c51e-32ff-4970-9772-8a26ea9993a9",
   "metadata": {},
   "outputs": [],
   "source": [
    "# Search posts for the text \"news\"\n",
    "posts = client.app.bsky.feed.search_posts({'q': \"news\"}).posts\n",
    "\n",
    "# Search posts that include text \"UW\" from the user \"uwischool.bsky.social\"\n",
    "#posts = client.app.bsky.feed.search_posts({'q': \"UW\", 'author': \"uwischool.bsky.social\"}).posts"
   ]
  },
  {
   "cell_type": "code",
   "execution_count": null,
   "id": "5da934f7-54e3-4ddf-a6f2-04917755a809",
   "metadata": {},
   "outputs": [],
   "source": [
    "for post in posts:\n",
    "    if(hasattr(post.embed, \"images\")):\n",
    "        images = post.embed.images\n",
    "\n",
    "        print(\"Post by \" + post.author.handle + \":\")\n",
    "        print(\" ---- \")\n",
    "        print(\" - Text: \" + post.record.text)\n",
    "            \n",
    "        for image in images:\n",
    "            print(\"  ---- \")\n",
    "            print(\"  - alt text: \" + image.alt)\n",
    "            print(\"  - img link (thumbnail): \" + image.thumb)\n",
    "\n",
    "        print(\"---------------------------------------\")"
   ]
  },
  {
   "cell_type": "markdown",
   "id": "320b8f37-b200-4564-9686-49bcd776d16e",
   "metadata": {},
   "source": [
    "## Get alt text from a feeds\n",
    " - (what's hot): at://did:plc:z72i7hdynmk6r22z27h6tvur/app.bsky.feed.generator/whats-hot\n",
    " - (Animal): at://did:plc:2m44csq7rgph66s2kltbypxh/app.bsky.feed.generator/aaab56iiatpdo"
   ]
  },
  {
   "cell_type": "code",
   "execution_count": null,
   "id": "c656be88-e0de-428d-bc18-6623e7e38b14",
   "metadata": {},
   "outputs": [],
   "source": [
    "# What's hot feed\n",
    "feed = client.app.bsky.feed.get_feed({'feed': 'at://did:plc:z72i7hdynmk6r22z27h6tvur/app.bsky.feed.generator/whats-hot'}).feed\n",
    "\n",
    "# Animal feed\n",
    "#feed = client.app.bsky.feed.get_feed({'feed': 'at://did:plc:2m44csq7rgph66s2kltbypxh/app.bsky.feed.generator/aaab56iiatpdo'}).feed"
   ]
  },
  {
   "cell_type": "code",
   "execution_count": null,
   "id": "08af228e-bc86-47e0-aef2-d9fecf5c74ad",
   "metadata": {},
   "outputs": [],
   "source": [
    "for postInfo in feed:\n",
    "    post = postInfo.post\n",
    "    if(hasattr(post.embed, \"images\")):\n",
    "        images = post.embed.images\n",
    "\n",
    "        print(\"Post by \" + post.author.handle + \":\")\n",
    "        print(\" ---- \")\n",
    "        print(\" - Text: \" + post.record.text)\n",
    "            \n",
    "        for image in images:\n",
    "            print(\"  ---- \")\n",
    "            print(\"  - alt text: \" + image.alt)\n",
    "            print(\"  - img link (thumbnail): \" + image.thumb)\n",
    "\n",
    "        print(\"---------------------------------------\")"
   ]
  },
  {
   "cell_type": "markdown",
   "id": "79f0bd43-28c8-42e8-9ace-380f43bfd504",
   "metadata": {},
   "source": [
    "## What alt-texts do you find helpful?\n",
    "In the above output, you are in a position where you can read the alt-text of the image, but you can't see the image (unless you open up the actual tweets, which if you are looking at the fake_tweepy output, there are no actual tweets).\n",
    "\n",
    "Without seeing the images you can hopefully see what makes alt-text useful or not. Posts without alt-text will be hard to make sense of, and some alt text on photos might tell you information about the photo, but not the information you need."
   ]
  }
 ],
 "metadata": {
  "kernelspec": {
   "display_name": "Python 3 (ipykernel)",
   "language": "python",
   "name": "python3"
  },
  "language_info": {
   "codemirror_mode": {
    "name": "ipython",
    "version": 3
   },
   "file_extension": ".py",
   "mimetype": "text/x-python",
   "name": "python",
   "nbconvert_exporter": "python",
   "pygments_lexer": "ipython3",
   "version": "3.10.13"
  },
  "vscode": {
   "interpreter": {
    "hash": "369f2c481f4da34e4445cda3fffd2e751bd1c4d706f27375911949ba6bb62e1c"
   }
  }
 },
 "nbformat": 4,
 "nbformat_minor": 5
}
