{
 "cells": [
  {
   "cell_type": "markdown",
   "id": "67655e14-ea22-4ff1-9b83-2735028b6dd8",
   "metadata": {},
   "source": [
    "# Demo: Virality\n",
    "Let's look at how posts are shared across reddit\n",
    "\n",
    "## Log into Reddit (PRAW)\n",
    "Our code starts with our Redddit PRAW setup:"
   ]
  },
  {
   "cell_type": "code",
   "execution_count": null,
   "id": "ed4d794b-94dc-48bc-bd59-557d2251a135",
   "metadata": {
    "tags": []
   },
   "outputs": [],
   "source": [
    "import praw"
   ]
  },
  {
   "cell_type": "code",
   "execution_count": null,
   "id": "92e97170-80c2-42b7-b661-2eb909b71f14",
   "metadata": {},
   "outputs": [],
   "source": [
    "%run reddit_keys.py"
   ]
  },
  {
   "cell_type": "code",
   "execution_count": null,
   "id": "a4670d0f-d404-49ae-ad88-5234a60254ff",
   "metadata": {},
   "outputs": [],
   "source": [
    "# Give the praw code your reddit account info so\n",
    "# it can perform reddit actions\n",
    "reddit = praw.Reddit(\n",
    "    username=username, password=password,\n",
    "    client_id=client_id, client_secret=client_secret,\n",
    "    user_agent=\"a custom python script for user /\" + str(username)\n",
    ")"
   ]
  },
  {
   "cell_type": "markdown",
   "id": "0198af1c-b595-486a-aedc-755ab20b680a",
   "metadata": {
    "tags": []
   },
   "source": [
    "## Find a submission"
   ]
  },
  {
   "cell_type": "code",
   "execution_count": null,
   "id": "871897ce-9319-47df-9fbe-d1e66011340f",
   "metadata": {},
   "outputs": [],
   "source": [
    "# Look up the subreddit \"worldnews\", then find the \"hot\" list, getting up to 1 submission\n",
    "submissions = reddit.subreddit(\"worldnews\").hot(limit=1)\n",
    "\n",
    "# get the first submission off the list (should only be one anyway)\n",
    "latest_submission = next(submissions) \n",
    "\n",
    "import datetime\n",
    "\n",
    "# display the subject and body of the message, so we can see what we found\n",
    "display(\"latest submissions subject: \" + str(latest_submission.title))\n",
    "display(\"latest submissions body: \" + str(latest_submission.url))\n",
    "display(\"latest submissions time: \" + str(datetime.datetime.fromtimestamp(latest_submission.created_utc)))"
   ]
  },
  {
   "cell_type": "markdown",
   "id": "cade94a4-8c39-40fa-b8e0-c9df3a9f0f73",
   "metadata": {},
   "source": [
    "## Find all the times this movies story has been re-posted:"
   ]
  },
  {
   "cell_type": "code",
   "execution_count": null,
   "id": "e8a8c18b-0478-4c46-b33a-665f83bc7058",
   "metadata": {
    "tags": []
   },
   "outputs": [],
   "source": [
    "\n",
    "\n",
    "duplicate_submissions = list(latest_submission.duplicates(params={'crossposts_only': True, 'limit': 100}))\n",
    "\n",
    "for duplicate_submission in duplicate_submissions:\n",
    "    print(\"subreddit: \" + str(duplicate_submission.subreddit))\n",
    "    print(\"time: \" + str(datetime.datetime.fromtimestamp(duplicate_submission.created_utc)))\n",
    "    \n"
   ]
  },
  {
   "cell_type": "markdown",
   "id": "02487c58-73aa-4ef8-9904-bc08a62ea704",
   "metadata": {},
   "source": [
    "## Sort by Time and output again"
   ]
  },
  {
   "cell_type": "code",
   "execution_count": null,
   "id": "d333fb31-0080-457e-9394-9de822450f2c",
   "metadata": {},
   "outputs": [],
   "source": [
    "# sort so that the first in the list is the first place it was posted\n",
    "ordered_duplicate_submissions = sorted(\n",
    "    duplicate_submissions, key=lambda x: x.created_utc\n",
    ")\n",
    "\n",
    "\n",
    "for duplicate_submission in ordered_duplicate_submissions:\n",
    "    print(\"subreddit: \" + str(duplicate_submission.subreddit))\n",
    "    print(\"time: \" + str(datetime.datetime.fromtimestamp(duplicate_submission.created_utc)))\n",
    "    "
   ]
  },
  {
   "cell_type": "markdown",
   "id": "dd127827-635b-44ca-8a8e-757b346569d0",
   "metadata": {},
   "source": [
    "## now try this all on multiple stories from movies"
   ]
  },
  {
   "cell_type": "code",
   "execution_count": null,
   "id": "b04cc392-6477-4547-a5c0-344064766fb6",
   "metadata": {},
   "outputs": [],
   "source": [
    "# Look up the subreddit \"worldnews\", then find the \"hot\" list, getting up to 1 submission\n",
    "submissions = reddit.subreddit(\"worldnews\").hot(limit=10)\n",
    "\n",
    "# get the first submission off the list (should only be one anyway)\n",
    "submissions_list = list(submissions) \n",
    "\n",
    "for submission in submissions_list:\n",
    "\n",
    "    # display the subject and body of the message, so we can see what we found\n",
    "    display(\"latest submissions subject: \" + str(submission.title))\n",
    "    display(\"latest submissions body: \" + str(submission.url))\n",
    "    display(\"latest submissions time: \" + str(datetime.datetime.fromtimestamp(submission.created_utc)))\n",
    "    \n",
    "    duplicate_submissions = list(submission.duplicates(params={'crossposts_only': True, 'limit': 100}))\n",
    "\n",
    "    ordered_duplicate_submissions = sorted(\n",
    "        duplicate_submissions, key=lambda x: x.created_utc\n",
    "    )\n",
    "    \n",
    "    print(\"duplicates:\")\n",
    "    for duplicate_submission in ordered_duplicate_submissions:\n",
    "        print(\"  subreddit: \" + str(duplicate_submission.subreddit))\n",
    "\n",
    "    print()\n"
   ]
  }
 ],
 "metadata": {
  "kernelspec": {
   "display_name": "Python 3 (ipykernel)",
   "language": "python",
   "name": "python3"
  },
  "language_info": {
   "codemirror_mode": {
    "name": "ipython",
    "version": 3
   },
   "file_extension": ".py",
   "mimetype": "text/x-python",
   "name": "python",
   "nbconvert_exporter": "python",
   "pygments_lexer": "ipython3",
   "version": "3.9.7"
  }
 },
 "nbformat": 4,
 "nbformat_minor": 5
}
