{
 "cells": [
  {
   "cell_type": "markdown",
   "id": "ca8a4d07-9426-4e40-ace6-0a81a2d74558",
   "metadata": {},
   "source": [
    "# Ch 17 demo: Scheduled blocks"
   ]
  },
  {
   "cell_type": "markdown",
   "id": "0fe66180-e66c-47ee-9785-26b892297ddc",
   "metadata": {},
   "source": [
    "This is a demo which shows how to schedule a task to run on a specific schedule"
   ]
  },
  {
   "cell_type": "markdown",
   "id": "55b50eb3-54a7-48cc-9044-2d5887b5a89e",
   "metadata": {},
   "source": [
    "## Bluesky Setup"
   ]
  },
  {
   "cell_type": "code",
   "execution_count": null,
   "id": "1f5f35b3-9a8e-4ab3-bc4e-3945292fcedf",
   "metadata": {},
   "outputs": [],
   "source": [
    "# Load some code called \"Client\" from the \"atproto\" library that will help us work with Bluesky\n",
    "from atproto import Client"
   ]
  },
  {
   "cell_type": "markdown",
   "id": "bd6e3d51-9524-48a3-88ff-edf060e8b877",
   "metadata": {},
   "source": [
    "(optional) use the fake version of Bluesky atproto, so you don't have to use real Bluesky passwords"
   ]
  },
  {
   "cell_type": "code",
   "execution_count": null,
   "id": "556ba34a-8e5d-41c0-9663-21784b99f4a0",
   "metadata": {},
   "outputs": [],
   "source": [
    "# Note: I don't yet have the fake_atproto setup for this demo yet\n",
    "# %run fake_apis/fake_atproto.ipynb"
   ]
  },
  {
   "cell_type": "code",
   "execution_count": null,
   "id": "39dc0def-3a51-4048-a657-9b4006a45407",
   "metadata": {},
   "outputs": [],
   "source": [
    "# Login to Bluesky\n",
    "%run bluesky_keys.py\n",
    "\n",
    "client = Client(base_url=\"https://bsky.social\")\n",
    "client.login(handle, password)"
   ]
  },
  {
   "cell_type": "markdown",
   "id": "2f72bcb0-1165-4ca5-ace0-0b39e3bd99d3",
   "metadata": {},
   "source": [
    "## Timed actions\n",
    "load `schedule` library and `time` library that helps us with scheduling"
   ]
  },
  {
   "cell_type": "code",
   "execution_count": null,
   "id": "e8f829a3-96df-4f34-a508-a68680f38451",
   "metadata": {},
   "outputs": [],
   "source": [
    "# load a library that gives us a scheduling actions\n",
    "!pip install schedule\n",
    "import schedule\n",
    "\n",
    "# load time library so we can write code to \n",
    "# check every second if there is a task to run\n",
    "from time import sleep"
   ]
  },
  {
   "cell_type": "markdown",
   "id": "a0d58662-bc33-4a1a-9d54-8b8960745458",
   "metadata": {},
   "source": [
    "Define a function that will be a task to run on a schedule. See more scheduling examples here: [https://schedule.readthedocs.io/en/stable/examples.html](https://schedule.readthedocs.io/en/stable/examples.html)\n",
    "\n",
    "We will create a function that automatically blocks anyone who has a dm conversation opened with me. Based on [example code here](https://atproto.blue/en/latest/dm.html)."
   ]
  },
  {
   "cell_type": "code",
   "execution_count": null,
   "id": "d89bd401-af82-4daf-8b41-5ba75748fb41",
   "metadata": {},
   "outputs": [],
   "source": [
    "# Helper function to block a user\n",
    "from atproto import models\n",
    "def block_user(user, verbose=True):\n",
    "    block_record = models.AppBskyGraphBlock.Record(\n",
    "      subject = user.did, \n",
    "      created_at = client.get_current_time_iso()\n",
    "    )\n",
    "    uri = client.app.bsky.graph.block.create(client.me.did, block_record).uri\n",
    "    print(\"successfully blocked user: \" + str(uri))\n",
    "\n",
    "\n",
    "# Define a function that when run will say that it will post \"it's lunchtime!\"\n",
    "def block_those_who_dm_me():\n",
    "    print(\"running block task\")\n",
    "\n",
    "    \n",
    "    # create client proxied to Bluesky Chat service\n",
    "    dm_client = client.with_bsky_chat_proxy()\n",
    "    # create shortcut to convo methods\n",
    "    dm = dm_client.chat.bsky.convo\n",
    "\n",
    "    # get a list of the dm conversations I have\n",
    "    convo_list = dm.list_convos()  \n",
    "    print(\"processing \" + str(len(convo_list.convos)) + \" dm conversations\")\n",
    "\n",
    "    # go through all converastins, blocking everyone and leaving the conversations\n",
    "    for convo in convo_list.convos:\n",
    "        # block everyone in the conversation\n",
    "        for member in convo.members:\n",
    "            # make sure it isn't myself I am blocking\n",
    "            if(client.me.did != member.did):\n",
    "                print(\"blocking \" + str(member.handle))\n",
    "                block_user(member)\n",
    "            \n",
    "        # leave the conversation\n",
    "        dm_client.chat.bsky.convo.leave_convo({\"convo_id\": convo.id})\n",
    "    print()"
   ]
  },
  {
   "cell_type": "markdown",
   "id": "1b991ed9-7106-44af-bb0e-8d81e9189530",
   "metadata": {},
   "source": [
    "set the schedule for when the task should run"
   ]
  },
  {
   "cell_type": "code",
   "execution_count": null,
   "id": "737956bd-6765-4bfa-bf03-6262f7633966",
   "metadata": {},
   "outputs": [],
   "source": [
    "# schedule the \"block_those_who_dm_me\" function to run every 5 minutes\n",
    "schedule.every(5).seconds.do(block_those_who_dm_me)"
   ]
  },
  {
   "cell_type": "markdown",
   "id": "cc315c63-bddf-4d42-9a26-d4ffe44c2efb",
   "metadata": {},
   "source": [
    "Run code that will loop forever, every second running any tasks that are ready to run"
   ]
  },
  {
   "cell_type": "code",
   "execution_count": null,
   "id": "e61a11e2-ad85-4796-a211-e06222a7dbe7",
   "metadata": {},
   "outputs": [],
   "source": [
    "# Loop forever, once a second running every task that needs to be run\n",
    "while True:\n",
    "    # if any tasks are ready to run, run them\n",
    "    schedule.run_pending()\n",
    "    # pause for 1 second before checking again\n",
    "    sleep(1)"
   ]
  },
  {
   "cell_type": "code",
   "execution_count": null,
   "id": "bdbed779-3a5a-4978-bb66-ba097b1dcb55",
   "metadata": {},
   "outputs": [],
   "source": []
  }
 ],
 "metadata": {
  "kernelspec": {
   "display_name": "Python 3 (ipykernel)",
   "language": "python",
   "name": "python3"
  },
  "language_info": {
   "codemirror_mode": {
    "name": "ipython",
    "version": 3
   },
   "file_extension": ".py",
   "mimetype": "text/x-python",
   "name": "python",
   "nbconvert_exporter": "python",
   "pygments_lexer": "ipython3",
   "version": "3.11.9"
  }
 },
 "nbformat": 4,
 "nbformat_minor": 5
}
